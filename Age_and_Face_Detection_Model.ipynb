{
  "cells": [
    {
      "cell_type": "code",
      "execution_count": null,
      "metadata": {
        "id": "XhB0UCAo-HHr"
      },
      "outputs": [],
      "source": [
        "from google.colab import drive\n",
        "drive.mount('/content/drive')\n"
      ]
    },
    {
      "cell_type": "code",
      "execution_count": null,
      "metadata": {
        "id": "_KmXEdpxEcF8"
      },
      "outputs": [],
      "source": [
        "import zipfile\n",
        "import os\n",
        "\n",
        "# Define the zip file path (use the Google Drive path)\n",
        "zip_file_path = \"/content/drive/My Drive/UTKFace.zip\"\n",
        "\n",
        "# Define the extraction directory\n",
        "extract_dir = \"/content/UTKFace\"\n",
        "\n",
        "# Unzipping the file\n",
        "with zipfile.ZipFile(zip_file_path, 'r') as zip_ref:\n",
        "    zip_ref.extractall(extract_dir)\n",
        "\n",
        "# Check the extracted files\n",
        "extracted_files = os.listdir(extract_dir)\n",
        "print(f\"Extracted files: {len(extracted_files)}\")\n"
      ]
    },
    {
      "cell_type": "code",
      "execution_count": null,
      "metadata": {
        "id": "VwirjROQE8Iu"
      },
      "outputs": [],
      "source": [
        "import os\n",
        "\n",
        "# List all files and directories in the extracted folder\n",
        "extracted_files = os.listdir(extract_dir)\n",
        "print(f\"Extracted files and directories: {extracted_files}\")\n"
      ]
    },
    {
      "cell_type": "code",
      "execution_count": null,
      "metadata": {
        "id": "z2xO7tmo7ZF6"
      },
      "outputs": [],
      "source": [
        "import numpy as np\n",
        "import pandas as pd\n",
        "import matplotlib.pyplot as plt\n",
        "import seaborn as sns\n",
        "import tensorflow as tf\n",
        "from PIL import Image\n",
        "import os\n",
        "from pathlib import Path"
      ]
    },
    {
      "cell_type": "code",
      "execution_count": null,
      "metadata": {
        "collapsed": true,
        "id": "LMtmBG9N7ZZg"
      },
      "outputs": [],
      "source": [
        "\n",
        "# Define the directory path\n",
        "path = \"/content/UTKFace/UTKFace\"\n",
        "all_files = os.listdir(path)\n",
        "print(f\"Extracted files and directories: {all_files}\")\n",
        "# List all files and directories in the specified path\n",
        "all_files = os.listdir(path)\n",
        "print(\"All files in directory:\", all_files)\n"
      ]
    },
    {
      "cell_type": "code",
      "execution_count": null,
      "metadata": {
        "id": "taTz5zpq7Zcc"
      },
      "outputs": [],
      "source": [
        "print(len(all_files))"
      ]
    },
    {
      "cell_type": "code",
      "execution_count": null,
      "metadata": {
        "id": "g7pzrR4b7ZfZ"
      },
      "outputs": [],
      "source": [
        "print(all_files[:5])"
      ]
    },
    {
      "cell_type": "code",
      "execution_count": null,
      "metadata": {
        "id": "wZ0PQfTP7ZiP"
      },
      "outputs": [],
      "source": [
        "np.random.seed(42)\n",
        "np.random.shuffle(all_files)"
      ]
    },
    {
      "cell_type": "code",
      "execution_count": null,
      "metadata": {
        "id": "jDS_jLbpF0eQ"
      },
      "outputs": [],
      "source": [
        "print(len(all_files))"
      ]
    },
    {
      "cell_type": "code",
      "execution_count": null,
      "metadata": {
        "id": "ve76FX_37Zlf"
      },
      "outputs": [],
      "source": [
        "age_labels, gender_labels , image_paths =[],[],[]\n",
        "for file in all_files:\n",
        "    image_paths.append(file)\n",
        "    temp = file.split(\"_\")\n",
        "    age_labels.append(temp[0])\n",
        "\n",
        "    gender_labels.append(temp[1])\n"
      ]
    },
    {
      "cell_type": "code",
      "execution_count": null,
      "metadata": {
        "collapsed": true,
        "id": "Ojfo6RwsGMBN"
      },
      "outputs": [],
      "source": [
        "image_paths"
      ]
    },
    {
      "cell_type": "code",
      "execution_count": null,
      "metadata": {
        "id": "IQpsaWVnFNkN"
      },
      "outputs": [],
      "source": [
        "data = pd.DataFrame()\n",
        "data[\"image\"] = image_paths\n",
        "data[\"age\"] = age_labels\n",
        "data[\"gender\"] = gender_labels"
      ]
    },
    {
      "cell_type": "code",
      "execution_count": null,
      "metadata": {
        "collapsed": true,
        "id": "v62A-YrEG1r_"
      },
      "outputs": [],
      "source": [
        "data.head()"
      ]
    },
    {
      "cell_type": "code",
      "execution_count": null,
      "metadata": {
        "id": "bdc5msVfF1-x"
      },
      "outputs": [],
      "source": [
        "gender_dict = {\n",
        "    0 : \"Male\",\n",
        "    1 : \"Female\"\n",
        "}"
      ]
    },
    {
      "cell_type": "code",
      "execution_count": null,
      "metadata": {
        "id": "B9Yf2RtUF2B2"
      },
      "outputs": [],
      "source": [
        "print(data.dtypes)"
      ]
    },
    {
      "cell_type": "code",
      "execution_count": null,
      "metadata": {
        "id": "CPjir_nGF2Ey"
      },
      "outputs": [],
      "source": [
        "data = data.astype({\"age\":\"float32\",\"gender\":\"int32\"})"
      ]
    },
    {
      "cell_type": "code",
      "execution_count": null,
      "metadata": {
        "collapsed": true,
        "id": "XOXSEJTJF2H3"
      },
      "outputs": [],
      "source": [
        "print(data.dtypes)"
      ]
    },
    {
      "cell_type": "code",
      "execution_count": null,
      "metadata": {
        "collapsed": true,
        "id": "z54Zi71IIfht"
      },
      "outputs": [],
      "source": [
        "img = Image.open(path + \"/\" + data.image[0])\n",
        "plt.imshow(img)"
      ]
    },
    {
      "cell_type": "code",
      "execution_count": null,
      "metadata": {
        "collapsed": true,
        "id": "S40Vmp_xJLgP"
      },
      "outputs": [],
      "source": [
        "sns.displot(data.age)"
      ]
    },
    {
      "cell_type": "code",
      "execution_count": null,
      "metadata": {
        "collapsed": true,
        "id": "gr1Ur-Bh_0Z5"
      },
      "outputs": [],
      "source": [
        "# Visualize distributions\n",
        "sns.histplot(data=data, x=\"age\").set(title=\"Age Distribution\")\n",
        "sns.histplot(data=data, x=\"gender\").set(title=\"Gender Distribution\")"
      ]
    },
    {
      "cell_type": "code",
      "execution_count": null,
      "metadata": {
        "collapsed": true,
        "id": "uqYaYk70JJeq"
      },
      "outputs": [],
      "source": [
        "from keras.preprocessing.image import load_img\n",
        "files = data.iloc[0:20]\n",
        "plt.figure(figsize=(15,15))\n",
        "\n",
        "for index , file , age , gender in files.itertuples():\n",
        "  plt.subplot(5,5,index+1)\n",
        "  img = load_img(path + \"/\" + file)\n",
        "  img = np.array(img)\n",
        "  plt.imshow(img)\n",
        "  plt.title(f\"Age : {age} Gender : {gender_dict[gender]}\")\n",
        "  plt.axis(\"off\")"
      ]
    },
    {
      "cell_type": "code",
      "execution_count": null,
      "metadata": {
        "id": "oYoChWjyGfk_"
      },
      "outputs": [],
      "source": [
        "data.info()"
      ]
    },
    {
      "cell_type": "code",
      "execution_count": null,
      "metadata": {
        "id": "OIzVrQGA9Kdp"
      },
      "outputs": [],
      "source": [
        "#Data Augmentation\n",
        "\n",
        "from tensorflow.keras.preprocessing.image import ImageDataGenerator\n",
        "from tensorflow.keras.preprocessing.image import load_img, img_to_array\n",
        "\n",
        "# Initialize the ImageDataGenerator for augmentation\n",
        "datagen = ImageDataGenerator(\n",
        "    rescale=1./255,          # Rescale pixel values\n",
        "    rotation_range=30,       # Random rotation\n",
        "    width_shift_range=0.2,   # Horizontal shift\n",
        "    height_shift_range=0.2,  # Vertical shift\n",
        "    shear_range=0.2,         # Shear transformation\n",
        "    zoom_range=0.2,          # Random zoom\n",
        "    horizontal_flip=True,    # Random horizontal flip\n",
        "    fill_mode='nearest'      # Fill missing pixels\n",
        ")"
      ]
    },
    {
      "cell_type": "code",
      "execution_count": null,
      "metadata": {
        "id": "KRUlljVtGlNn"
      },
      "outputs": [],
      "source": [
        "sns.histplot(data = data ,x=\"age\").set(title=\"Age Distribution\")"
      ]
    },
    {
      "cell_type": "code",
      "execution_count": null,
      "metadata": {
        "id": "5tKGJUBIG13s"
      },
      "outputs": [],
      "source": [
        "sns.histplot(data = data , x = \"gender\").set(title= \"Gender Distribution\")"
      ]
    },
    {
      "cell_type": "code",
      "execution_count": null,
      "metadata": {
        "collapsed": true,
        "id": "peGbG2rq87DT"
      },
      "outputs": [],
      "source": [
        "data['gender'].value_counts().plot(kind='bar')\n"
      ]
    },
    {
      "cell_type": "code",
      "execution_count": null,
      "metadata": {
        "id": "pwJ_gXNiFwMS"
      },
      "outputs": [],
      "source": [
        "from sklearn.model_selection import train_test_split\n",
        "\n",
        "train , test = train_test_split(data , test_size = 0.2 , random_state= 42)\n"
      ]
    },
    {
      "cell_type": "code",
      "execution_count": null,
      "metadata": {
        "collapsed": true,
        "id": "I_pHP4OlMPZM"
      },
      "outputs": [],
      "source": [
        "train.head()"
      ]
    },
    {
      "cell_type": "code",
      "execution_count": null,
      "metadata": {
        "id": "p6sHU29vMXxJ"
      },
      "outputs": [],
      "source": [
        "train.shape"
      ]
    },
    {
      "cell_type": "code",
      "execution_count": null,
      "metadata": {
        "id": "XmVW4MMwMajB"
      },
      "outputs": [],
      "source": [
        "test.shape"
      ]
    },
    {
      "cell_type": "code",
      "execution_count": null,
      "metadata": {
        "id": "ppKobomSMf3f"
      },
      "outputs": [],
      "source": [
        "x_train = []\n",
        "for file in train.image:\n",
        "  img = load_img(path + \"/\" + file , color_mode = \"grayscale\" )\n",
        "  img = img.resize((128,128), Image.Resampling.LANCZOS)\n",
        "  img = np.array(img)\n",
        "  x_train.append(img)\n",
        "\n",
        "\n",
        "x_train = np.array(x_train)\n",
        "\n",
        "x_train = x_train.reshape(len(x_train),128,128,1)"
      ]
    },
    {
      "cell_type": "code",
      "execution_count": null,
      "metadata": {
        "id": "V4tQrCA7OSRy"
      },
      "outputs": [],
      "source": [
        "x_train = x_train/255"
      ]
    },
    {
      "cell_type": "code",
      "execution_count": null,
      "metadata": {
        "id": "VUlRPok6OZKI"
      },
      "outputs": [],
      "source": [
        "y_gender = np.array(train.gender)\n",
        "y_age = np.array(train.age)"
      ]
    },
    {
      "cell_type": "code",
      "execution_count": null,
      "metadata": {
        "id": "JCZm2CwMO0j7"
      },
      "outputs": [],
      "source": [
        "input_size = (128,128,1)"
      ]
    },
    {
      "cell_type": "code",
      "execution_count": null,
      "metadata": {
        "id": "TqJl3ZqeJ0CI"
      },
      "outputs": [],
      "source": [
        "from keras.models import Model\n",
        "from keras.layers import Input , Conv2D , BatchNormalization , MaxPooling2D , Flatten , Dense ,Dropout\n",
        "from keras.initializers import glorot_uniform\n",
        "from tensorflow.keras.optimizers import Adam\n",
        "from tensorflow.keras.regularizers import l2\n",
        "\n",
        "\n",
        "\n",
        "\n",
        "inputs = Input(shape= input_size)\n",
        "\n",
        "#First Conv Block\n",
        "X = Conv2D(512,(3,3),activation = \"relu\",kernel_initializer = glorot_uniform(seed=0))(inputs)\n",
        "X = BatchNormalization(axis=3)(X)\n",
        "X = MaxPooling2D((3,3))(X)\n",
        "X = Dropout(0.3)(X)\n",
        "\n",
        "#2nd Conv Block\n",
        "X = Conv2D(256,(3,3),activation = \"relu\")(X)\n",
        "X = BatchNormalization()(X)\n",
        "X = MaxPooling2D((2,2),strides=(2,2))(X)\n",
        "X = Dropout(0.3)(X)\n",
        "\n",
        "#3rd Conv Block\n",
        "X = Conv2D(128,(3,3),activation = \"relu\")(X)\n",
        "X = MaxPooling2D((2,2))(X)\n",
        "X = Dropout(0.3)(X)\n",
        "\n",
        "#4th Conv Block\n",
        "X = Conv2D(64,(3,3),activation = \"relu\")(X)\n",
        "X = MaxPooling2D((2,2))(X)\n",
        "X = Dropout(0.3)(X)\n",
        "\n",
        "#Flatten and Dense Layer\n",
        "X = Flatten()(X)\n",
        "\n",
        "dense_1 = Dense(256,activation = \"relu\",kernel_regularizer = l2(0.01))(X)\n",
        "drop_out_1 = Dropout(0.4)(dense_1)\n",
        "\n",
        "age_dense_1 = Dense(512,activation = \"relu\")(X)\n",
        "age_dense_2 = Dense(256, activation=\"relu\")(age_dense_1)\n",
        "\n",
        "\n",
        "output_1 = Dense(1,activation = \"sigmoid\" , name = \"Gender_Output\")(drop_out_1)\n",
        "output_2 = Dense(1,activation = \"linear\" , name = \"Age_Output\")(age_dense_2)\n",
        "\n",
        "model = Model(inputs = inputs , outputs = [output_1 , output_2])\n",
        "\n",
        "\n"
      ]
    },
    {
      "cell_type": "code",
      "execution_count": null,
      "metadata": {
        "id": "tQLlSWmeI7bS"
      },
      "outputs": [],
      "source": [
        "from tensorflow.keras.optimizers import Adam\n",
        "from tensorflow.keras.metrics import MeanAbsoluteError, Accuracy\n",
        "from tensorflow.keras.losses import BinaryCrossentropy, MeanSquaredError\n",
        "\n",
        "# Define your optimizer with a specific learning rate\n",
        "optimizer = Adam(learning_rate=0.0005)  # Lower learning Rate for fine Tuning\n",
        "\n",
        "model.compile(\n",
        "    optimizer = optimizer,\n",
        "    loss = [\"binary_crossentropy\",\"mae\"],\n",
        "    loss_weights = [1.0,2.0],\n",
        "    metrics = [[\"accuracy\"],[MeanAbsoluteError()]]\n",
        ")\n",
        "\n",
        "# Callbacks for early stopping\n",
        "from keras.callbacks import EarlyStopping\n",
        "\n",
        "early_stopping = EarlyStopping(\n",
        "    monitor=\"val_loss\",\n",
        "    patience=5,\n",
        "    verbose=1,\n",
        "    restore_best_weights=True\n",
        ")\n",
        "\n",
        "\n",
        "\n"
      ]
    },
    {
      "cell_type": "code",
      "execution_count": null,
      "metadata": {
        "collapsed": true,
        "id": "gxlY6C2fI7e0"
      },
      "outputs": [],
      "source": [
        "model.summary()"
      ]
    },
    {
      "cell_type": "code",
      "execution_count": null,
      "metadata": {
        "collapsed": true,
        "id": "D-5e5mQDI7iS"
      },
      "outputs": [],
      "source": [
        "model_history = model.fit(x = x_train , y = [y_gender,y_age],batch_size = 32 , epochs = 20, validation_split=0.1)"
      ]
    },
    {
      "cell_type": "code",
      "execution_count": null,
      "metadata": {
        "id": "4J6qfvhjk7_V"
      },
      "outputs": [],
      "source": [
        "# Prepare the test set images\n",
        "x_test = []\n",
        "for file in test.image:\n",
        "    img = load_img(path + \"/\" + file, color_mode=\"grayscale\")\n",
        "    img = img.resize((128, 128), Image.Resampling.LANCZOS)\n",
        "    img = np.array(img)\n",
        "    x_test.append(img)\n",
        "\n",
        "x_test = np.array(x_test)\n",
        "\n",
        "# Reshape the test set images to match the input shape of the model\n",
        "x_test = x_test.reshape(len(x_test), 128, 128, 1)\n",
        "\n",
        "# Normalize the test images (rescale pixel values between 0 and 1)\n",
        "x_test = x_test / 255.0\n",
        "\n",
        "# Prepare the actual test labels\n",
        "y_test_gender = np.array(test.gender)\n",
        "y_test_age = np.array(test.age)\n",
        "\n",
        "# Predict gender and age on the test set\n",
        "predictions = model.predict(x_test)\n",
        "\n",
        "# Gender predictions (rounding because output is between 0 and 1)\n",
        "gender_predictions = np.round(predictions[0])\n",
        "\n",
        "# Age predictions\n",
        "age_predictions = predictions[1]\n",
        "\n",
        "# Convert gender predictions back to labels (0 for Male, 1 for Female)\n",
        "gender_predicted_labels = [gender_dict[int(gender)] for gender in gender_predictions]\n",
        "\n",
        "# Show some sample predictions\n",
        "for i in range(5):  # Show the first 5 test predictions\n",
        "    print(f\"Image: {test.image.iloc[i]}\")\n",
        "    print(f\"Predicted Gender: {gender_predicted_labels[i]}\")\n",
        "    print(f\"Predicted Age: {age_predictions[i][0]:.2f}\")\n",
        "    print(f\"Actual Gender: {gender_dict[test.gender.iloc[i]]}\")\n",
        "    print(f\"Actual Age: {test.age.iloc[i]}\")\n",
        "    print(\"\\n\")\n"
      ]
    },
    {
      "cell_type": "code",
      "execution_count": null,
      "metadata": {
        "id": "QR9Y66qTmbo1"
      },
      "outputs": [],
      "source": [
        "from sklearn.metrics import accuracy_score, mean_absolute_error , mean_squared_error\n",
        "\n",
        "# Accuracy for gender prediction\n",
        "gender_accuracy = accuracy_score(y_test_gender, gender_predictions)\n",
        "print(f\"Gender Prediction Accuracy: {gender_accuracy:.2f}\")\n",
        "\n",
        "# Mean Absolute Error for age prediction\n",
        "age_mae = mean_absolute_error(y_test_age, age_predictions)\n",
        "print(f\"Age Prediction Mean Absolute Error: {age_mae:.2f}\")\n",
        "\n",
        "# Mean Squared Error for age prediction\n",
        "age_mse = mean_squared_error(y_test_age, age_predictions)\n",
        "print(f\"Age Prediction Mean Squared Error: {age_mse:.2f}\")\n"
      ]
    }
  ],
  "metadata": {
    "accelerator": "GPU",
    "colab": {
      "gpuType": "T4",
      "provenance": []
    },
    "kernelspec": {
      "display_name": "Python 3",
      "name": "python3"
    },
    "language_info": {
      "name": "python"
    }
  },
  "nbformat": 4,
  "nbformat_minor": 0
}